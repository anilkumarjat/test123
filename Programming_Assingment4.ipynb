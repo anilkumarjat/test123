{
 "cells": [
  {
   "cell_type": "code",
   "execution_count": 2,
   "id": "d4f985a9",
   "metadata": {},
   "outputs": [
    {
     "name": "stdout",
     "output_type": "stream",
     "text": [
      "enter a number for factorial 7\n",
      "5040\n"
     ]
    }
   ],
   "source": [
    "a=int(input('enter a number for factorial '))\n",
    "f=1\n",
    "for i in range(1,a+1):\n",
    "    f=f*i\n",
    "print(f)\n",
    "    "
   ]
  },
  {
   "cell_type": "code",
   "execution_count": 6,
   "id": "d38b25ee",
   "metadata": {},
   "outputs": [
    {
     "name": "stdout",
     "output_type": "stream",
     "text": [
      "enter the number for which we want to display multiplication table4\n",
      "4 x 1 = 4\n",
      "4 x 2 = 8\n",
      "4 x 3 = 12\n",
      "4 x 4 = 16\n",
      "4 x 5 = 20\n",
      "4 x 6 = 24\n",
      "4 x 7 = 28\n",
      "4 x 8 = 32\n",
      "4 x 9 = 36\n",
      "4 x 10 = 40\n"
     ]
    }
   ],
   "source": [
    "a=int(input('enter the number for which we want to display multiplication table'))\n",
    "for i in range(1,11):\n",
    "    print(a, 'x', i,'=',a*i)"
   ]
  },
  {
   "cell_type": "code",
   "execution_count": 8,
   "id": "86ea6814",
   "metadata": {},
   "outputs": [
    {
     "name": "stdout",
     "output_type": "stream",
     "text": [
      "how much term6\n",
      "0\n",
      "1\n",
      "1\n",
      "2\n",
      "3\n",
      "5\n"
     ]
    }
   ],
   "source": [
    "n=int(input('how much term'))\n",
    "l1,l2=0,1\n",
    "if n==1:\n",
    "    print(l1)\n",
    "for i in range(n):\n",
    "    print(l1)\n",
    "    l=l1+l2\n",
    "    l1=l2\n",
    "    l2=l"
   ]
  },
  {
   "cell_type": "code",
   "execution_count": 13,
   "id": "b7d6edd2",
   "metadata": {},
   "outputs": [
    {
     "name": "stdout",
     "output_type": "stream",
     "text": [
      "enter a number to check about armstrong number153\n",
      "it is a armstrong number\n"
     ]
    }
   ],
   "source": [
    "a=input('enter a number to check about armstrong number')\n",
    "a1=list(a)\n",
    "sum1=0\n",
    "for i in a1:\n",
    "    sum1=sum1+int(i)**3\n",
    "if sum1==int(a):\n",
    "    print('it is a armstrong number')\n",
    "else:\n",
    "    print('it is not a armstrong number')\n",
    "    "
   ]
  },
  {
   "cell_type": "code",
   "execution_count": 15,
   "id": "eeca0ff0",
   "metadata": {},
   "outputs": [
    {
     "name": "stdout",
     "output_type": "stream",
     "text": [
      "1\n",
      "153\n",
      "370\n",
      "371\n",
      "407\n"
     ]
    }
   ],
   "source": [
    "for a in range(1,1001):\n",
    "    a1=list(str(a))\n",
    "    sum1=0\n",
    "    for i in a1:\n",
    "        sum1=sum1+int(i)**3\n",
    "    if sum1==int(a):\n",
    "        print(a)\n",
    "    else:\n",
    "        continue\n",
    "    "
   ]
  },
  {
   "cell_type": "code",
   "execution_count": 17,
   "id": "3ec497bc",
   "metadata": {},
   "outputs": [
    {
     "name": "stdout",
     "output_type": "stream",
     "text": [
      "enter the number upto which sum is required9\n",
      "45\n"
     ]
    }
   ],
   "source": [
    "total=0\n",
    "a=int(input('enter the number upto which sum is required'))\n",
    "for i in range(a+1):\n",
    "    total=total+i\n",
    "print(total)"
   ]
  },
  {
   "cell_type": "code",
   "execution_count": null,
   "id": "7b866e44",
   "metadata": {},
   "outputs": [],
   "source": []
  }
 ],
 "metadata": {
  "kernelspec": {
   "display_name": "Python 3 (ipykernel)",
   "language": "python",
   "name": "python3"
  },
  "language_info": {
   "codemirror_mode": {
    "name": "ipython",
    "version": 3
   },
   "file_extension": ".py",
   "mimetype": "text/x-python",
   "name": "python",
   "nbconvert_exporter": "python",
   "pygments_lexer": "ipython3",
   "version": "3.9.7"
  }
 },
 "nbformat": 4,
 "nbformat_minor": 5
}
