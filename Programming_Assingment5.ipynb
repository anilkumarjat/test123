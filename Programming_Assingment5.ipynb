{
 "cells": [
  {
   "cell_type": "code",
   "execution_count": 1,
   "id": "5f9957ee",
   "metadata": {},
   "outputs": [
    {
     "name": "stdout",
     "output_type": "stream",
     "text": [
      "8\n",
      "9\n",
      "72\n"
     ]
    }
   ],
   "source": [
    "a=int(input())\n",
    "b=int(input())\n",
    "if a>b:\n",
    "    greater=a\n",
    "else:\n",
    "    greater=b\n",
    "while(True):\n",
    "    if((greater%a==0)and(greater%b==0)):\n",
    "        lcm=greater\n",
    "        break\n",
    "    else:\n",
    "        greater=greater+1\n",
    "print(lcm)\n",
    "\n"
   ]
  },
  {
   "cell_type": "code",
   "execution_count": 2,
   "id": "65137141",
   "metadata": {},
   "outputs": [
    {
     "name": "stdout",
     "output_type": "stream",
     "text": [
      "9\n",
      "56\n",
      "1.0\n"
     ]
    }
   ],
   "source": [
    "a=int(input())\n",
    "b=int(input())\n",
    "if a>b:\n",
    "    greater=a\n",
    "else:\n",
    "    greater=b\n",
    "while(True):\n",
    "    if((greater%a==0)and(greater%b==0)):\n",
    "        lcm=greater\n",
    "        break\n",
    "    else:\n",
    "        greater=greater+1\n",
    "# lcm(a,b)=|a.b|/hcf(a,b)\n",
    "hcf=(a*b)/lcm\n",
    "print(hcf)\n"
   ]
  },
  {
   "cell_type": "code",
   "execution_count": 3,
   "id": "d1e189b8",
   "metadata": {},
   "outputs": [
    {
     "name": "stdout",
     "output_type": "stream",
     "text": [
      "10010\n",
      "\n",
      "1236\n",
      "\n",
      "2FD"
     ]
    }
   ],
   "source": [
    "# decimal to binary \n",
    "n=18\n",
    "l=[]\n",
    "while n>=1:\n",
    "    k=n%2\n",
    "    l.append(k)\n",
    "    n=n//2\n",
    "for i in l[::-1]:\n",
    "    print(i,end=\"\")\n",
    "print('\\n')\n",
    "# decimal to octal\n",
    "n1=670\n",
    "l1=[]\n",
    "while n1>=1:\n",
    "    k1=n1%8\n",
    "    l1.append(k1)\n",
    "    n1=n1//8\n",
    "for i in l1[::-1]:\n",
    "    print(i,end=\"\")\n",
    "print('\\n')\n",
    "# decimal to hexa\n",
    "n2=765\n",
    "l2=[]\n",
    "while n2>=1:\n",
    "    k2=n2%16\n",
    "    n2=n2//16\n",
    "    if k2<10:\n",
    "        l2.append(k2)\n",
    "    else:\n",
    "        l2.append(chr(k2+55))\n",
    "        \n",
    "for i in l2[::-1]:\n",
    "    print(i,end=\"\")\n",
    "    "
   ]
  },
  {
   "cell_type": "code",
   "execution_count": 4,
   "id": "5b759206",
   "metadata": {},
   "outputs": [
    {
     "name": "stdout",
     "output_type": "stream",
     "text": [
      "u\n",
      "117\n"
     ]
    }
   ],
   "source": [
    "char=input()\n",
    "print(ord(char))"
   ]
  },
  {
   "cell_type": "code",
   "execution_count": 5,
   "id": "34521f9b",
   "metadata": {},
   "outputs": [
    {
     "name": "stdout",
     "output_type": "stream",
     "text": [
      "enter the first number :86\n",
      "enter the second number :6\n",
      "enter the operator for calculation :*\n",
      "516.0\n"
     ]
    }
   ],
   "source": [
    "#calculator only for two values\n",
    "a=float(input('enter the first number :'))\n",
    "b=float(input('enter the second number :'))\n",
    "operator=input('enter the operator for calculation :')\n",
    "if operator=='+':\n",
    "    print(a+b)\n",
    "elif operator=='-':\n",
    "    print(a-b)\n",
    "elif operator=='*':\n",
    "    print(a*b)\n",
    "elif operator=='/':\n",
    "    print(a/b)\n"
   ]
  },
  {
   "cell_type": "code",
   "execution_count": null,
   "id": "d5f2d985",
   "metadata": {},
   "outputs": [],
   "source": []
  }
 ],
 "metadata": {
  "kernelspec": {
   "display_name": "Python 3 (ipykernel)",
   "language": "python",
   "name": "python3"
  },
  "language_info": {
   "codemirror_mode": {
    "name": "ipython",
    "version": 3
   },
   "file_extension": ".py",
   "mimetype": "text/x-python",
   "name": "python",
   "nbconvert_exporter": "python",
   "pygments_lexer": "ipython3",
   "version": "3.9.7"
  }
 },
 "nbformat": 4,
 "nbformat_minor": 5
}
