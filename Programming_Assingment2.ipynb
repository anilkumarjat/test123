{
 "cells": [
  {
   "cell_type": "code",
   "execution_count": 10,
   "id": "3b16ce67",
   "metadata": {},
   "outputs": [
    {
     "name": "stdout",
     "output_type": "stream",
     "text": [
      "48.466938\n"
     ]
    }
   ],
   "source": [
    "distance_in_kilometer=78\n",
    "distance_in_miles=distance_in_kilometer*0.621371\n",
    "print(distance_in_miles)"
   ]
  },
  {
   "cell_type": "code",
   "execution_count": 14,
   "id": "0a38a1eb",
   "metadata": {},
   "outputs": [
    {
     "name": "stdout",
     "output_type": "stream",
     "text": [
      "1639.4\n"
     ]
    }
   ],
   "source": [
    "temperature_in_celsius=893\n",
    "temperature_in_fahrenheit=(1.8*temperature_in_celsius)+32\n",
    "print(temperature_in_fahrenheit)"
   ]
  },
  {
   "cell_type": "code",
   "execution_count": 16,
   "id": "6b2156e9",
   "metadata": {},
   "outputs": [
    {
     "name": "stdout",
     "output_type": "stream",
     "text": [
      "year2021\n",
      "month6\n",
      "     June 2021\n",
      "Mo Tu We Th Fr Sa Su\n",
      "    1  2  3  4  5  6\n",
      " 7  8  9 10 11 12 13\n",
      "14 15 16 17 18 19 20\n",
      "21 22 23 24 25 26 27\n",
      "28 29 30\n",
      "\n"
     ]
    }
   ],
   "source": [
    "import calendar\n",
    "year=int(input('year'))\n",
    "month=int(input('month'))\n",
    "print(calendar.month(year,month))\n"
   ]
  },
  {
   "cell_type": "code",
   "execution_count": 24,
   "id": "8407418b",
   "metadata": {},
   "outputs": [
    {
     "name": "stdout",
     "output_type": "stream",
     "text": [
      "the solutions are (-0.5891972930813327+0j) and (-0.18858048469644506+0j)\n"
     ]
    }
   ],
   "source": [
    "# ax**2+bx+c\n",
    "a=9\n",
    "b=7\n",
    "c=1\n",
    "import cmath\n",
    "l=(b**2)-(4*a*c)\n",
    "sol1=(-b-cmath.sqrt(l))/(2*a)\n",
    "sol2=(-b+cmath.sqrt(l))/(2*a)\n",
    "print('the solutions are {} and {}'.format(sol1,sol2))\n",
    "\n"
   ]
  },
  {
   "cell_type": "code",
   "execution_count": 27,
   "id": "81a1cdca",
   "metadata": {},
   "outputs": [
    {
     "name": "stdout",
     "output_type": "stream",
     "text": [
      "the value of a is 4\n",
      "the value of b is 3\n"
     ]
    }
   ],
   "source": [
    "a=3\n",
    "b=4\n",
    "a=a+b\n",
    "b=a-b\n",
    "a=a-b\n",
    "print('the value of a is',a)\n",
    "print('the value of b is' ,b)"
   ]
  },
  {
   "cell_type": "code",
   "execution_count": null,
   "id": "bfcff77b",
   "metadata": {},
   "outputs": [],
   "source": []
  }
 ],
 "metadata": {
  "kernelspec": {
   "display_name": "Python 3 (ipykernel)",
   "language": "python",
   "name": "python3"
  },
  "language_info": {
   "codemirror_mode": {
    "name": "ipython",
    "version": 3
   },
   "file_extension": ".py",
   "mimetype": "text/x-python",
   "name": "python",
   "nbconvert_exporter": "python",
   "pygments_lexer": "ipython3",
   "version": "3.9.7"
  }
 },
 "nbformat": 4,
 "nbformat_minor": 5
}
