{
 "cells": [
  {
   "cell_type": "code",
   "execution_count": 1,
   "id": "3ec34f7e",
   "metadata": {},
   "outputs": [
    {
     "name": "stdout",
     "output_type": "stream",
     "text": [
      "enter how many term of fibonacci want :5\n",
      "0\n",
      "1\n",
      "1\n",
      "2\n",
      "3\n"
     ]
    }
   ],
   "source": [
    "#fibonacci series\n",
    "def fibo(n):\n",
    "    if n<=1:\n",
    "        return n\n",
    "    else:\n",
    "        return (fibo(n-1)+fibo(n-2))\n",
    "n=int(input('enter how many term of fibonacci want :'))\n",
    "for i in range(n):\n",
    "    if n<=0:\n",
    "        print('please enter a positive number')\n",
    "    else:\n",
    "        print(fibo(i))"
   ]
  },
  {
   "cell_type": "code",
   "execution_count": 6,
   "id": "1cb450bb",
   "metadata": {},
   "outputs": [
    {
     "name": "stdout",
     "output_type": "stream",
     "text": [
      "enter the number for factorial 7\n",
      "5040\n"
     ]
    }
   ],
   "source": [
    "def factorial(n):\n",
    "    if n==1:\n",
    "        return n\n",
    "    else:\n",
    "        return n*factorial(n-1)\n",
    "    \n",
    "    \n",
    "n=int(input('enter the number for factorial '))\n",
    "if n<0:\n",
    "      print('factorial does not exit for negative number ')\n",
    "elif n==0:\n",
    "      print('factorial of 0 is 1 ')\n",
    "else:\n",
    "      print(factorial(n))"
   ]
  },
  {
   "cell_type": "code",
   "execution_count": 7,
   "id": "b29ef471",
   "metadata": {},
   "outputs": [
    {
     "name": "stdout",
     "output_type": "stream",
     "text": [
      "please enter the body weight in kg 63\n",
      "please enter the height of body in meter 1.82\n",
      "19.01944209636517\n"
     ]
    }
   ],
   "source": [
    "def BMI(weight,height):\n",
    "    return weight/(height**2)\n",
    "w=float(input('please enter the body weight in kg '))\n",
    "h=float(input('please enter the height of body in meter '))\n",
    "print(BMI(w,h))"
   ]
  },
  {
   "cell_type": "code",
   "execution_count": 9,
   "id": "69e0964f",
   "metadata": {},
   "outputs": [
    {
     "name": "stdout",
     "output_type": "stream",
     "text": [
      "enter any positive number10\n",
      "2.302585092994046\n"
     ]
    }
   ],
   "source": [
    "import math \n",
    "n=float(input('enter any positive number'))\n",
    "print(math.log(n))"
   ]
  },
  {
   "cell_type": "code",
   "execution_count": 12,
   "id": "0b20a8ad",
   "metadata": {},
   "outputs": [
    {
     "name": "stdout",
     "output_type": "stream",
     "text": [
      "enter the number 3\n",
      "36\n"
     ]
    }
   ],
   "source": [
    "n=int(input('enter the number '))\n",
    "import math \n",
    "cube_sum=0\n",
    "for i in range(1,n+1):\n",
    "    cube_sum=cube_sum+i**3\n",
    "print(cube_sum)"
   ]
  },
  {
   "cell_type": "code",
   "execution_count": null,
   "id": "23e63f18",
   "metadata": {},
   "outputs": [],
   "source": []
  }
 ],
 "metadata": {
  "kernelspec": {
   "display_name": "Python 3 (ipykernel)",
   "language": "python",
   "name": "python3"
  },
  "language_info": {
   "codemirror_mode": {
    "name": "ipython",
    "version": 3
   },
   "file_extension": ".py",
   "mimetype": "text/x-python",
   "name": "python",
   "nbconvert_exporter": "python",
   "pygments_lexer": "ipython3",
   "version": "3.9.7"
  }
 },
 "nbformat": 4,
 "nbformat_minor": 5
}
