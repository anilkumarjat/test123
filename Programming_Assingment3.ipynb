{
 "cells": [
  {
   "cell_type": "code",
   "execution_count": 1,
   "id": "e56f394b",
   "metadata": {},
   "outputs": [
    {
     "name": "stdout",
     "output_type": "stream",
     "text": [
      "enter a number 5\n",
      "it is a positive number\n"
     ]
    }
   ],
   "source": [
    "a=float(input('enter a number '))\n",
    "if a>0:\n",
    "    print('it is a positive number')\n",
    "elif a<0:\n",
    "    print('it is a negative number')\n",
    "else:\n",
    "    print('it is zero')"
   ]
  },
  {
   "cell_type": "code",
   "execution_count": 2,
   "id": "11ff58d7",
   "metadata": {},
   "outputs": [
    {
     "name": "stdout",
     "output_type": "stream",
     "text": [
      "enter a number59\n",
      "it is odd\n"
     ]
    }
   ],
   "source": [
    "a=float(input('enter a number'))\n",
    "if a%2==0:\n",
    "    print('it is even')\n",
    "else:\n",
    "    print('it is odd')"
   ]
  },
  {
   "cell_type": "code",
   "execution_count": 3,
   "id": "7b115997",
   "metadata": {},
   "outputs": [
    {
     "name": "stdout",
     "output_type": "stream",
     "text": [
      "enter a year2500\n",
      "it is not a leap year\n"
     ]
    }
   ],
   "source": [
    "a=int(input('enter a year'))\n",
    "if a%4==0 and a%100!=0:\n",
    "    print('it is a leap year')\n",
    "else:\n",
    "    print('it is not a leap year')"
   ]
  },
  {
   "cell_type": "code",
   "execution_count": 7,
   "id": "c0bc40a2",
   "metadata": {},
   "outputs": [
    {
     "name": "stdout",
     "output_type": "stream",
     "text": [
      "enter a number17\n",
      "it is a prime number\n"
     ]
    }
   ],
   "source": [
    "b=int(input('enter a number'))\n",
    "if b>1:\n",
    "    \n",
    "    for i in range(2,b+1):\n",
    "        if b%i==0:\n",
    "            if i==b:\n",
    "                print('it is a prime number')\n",
    "            else:\n",
    "                print('it is not a prime number')\n",
    "                break\n",
    "else:\n",
    "    print('it is not prime')"
   ]
  },
  {
   "cell_type": "code",
   "execution_count": 15,
   "id": "2dc546f8",
   "metadata": {},
   "outputs": [
    {
     "name": "stdout",
     "output_type": "stream",
     "text": [
      "[2, 3, 5, 7, 11, 13, 17, 19, 23, 29, 31, 37, 41, 43, 47, 53, 59, 61, 67, 71, 73, 79, 83, 89, 97, 101, 103, 107, 109, 113, 127, 131, 137, 139, 149, 151, 157, 163, 167, 173, 179, 181, 191, 193, 197, 199, 211, 223, 227, 229, 233, 239, 241, 251, 257, 263, 269, 271, 277, 281, 283, 293, 307, 311, 313, 317, 331, 337, 347, 349, 353, 359, 367, 373, 379, 383, 389, 397, 401, 409, 419, 421, 431, 433, 439, 443, 449, 457, 461, 463, 467, 479, 487, 491, 499, 503, 509, 521, 523, 541, 547, 557, 563, 569, 571, 577, 587, 593, 599, 601, 607, 613, 617, 619, 631, 641, 643, 647, 653, 659, 661, 673, 677, 683, 691, 701, 709, 719, 727, 733, 739, 743, 751, 757, 761, 769, 773, 787, 797, 809, 811, 821, 823, 827, 829, 839, 853, 857, 859, 863, 877, 881, 883, 887, 907, 911, 919, 929, 937, 941, 947, 953, 967, 971, 977, 983, 991, 997]\n"
     ]
    }
   ],
   "source": [
    "l=[]\n",
    "for i in range(1,1001):\n",
    "    if i>1:\n",
    "        for k in range(2,i+1):\n",
    "            if i%k==0:\n",
    "                if k==i:\n",
    "                    l.append(i)\n",
    "                else:\n",
    "                    break\n",
    "    else:\n",
    "        continue\n",
    "print(l)\n",
    "    "
   ]
  },
  {
   "cell_type": "code",
   "execution_count": null,
   "id": "552e490f",
   "metadata": {},
   "outputs": [],
   "source": []
  }
 ],
 "metadata": {
  "kernelspec": {
   "display_name": "Python 3 (ipykernel)",
   "language": "python",
   "name": "python3"
  },
  "language_info": {
   "codemirror_mode": {
    "name": "ipython",
    "version": 3
   },
   "file_extension": ".py",
   "mimetype": "text/x-python",
   "name": "python",
   "nbconvert_exporter": "python",
   "pygments_lexer": "ipython3",
   "version": "3.9.7"
  }
 },
 "nbformat": 4,
 "nbformat_minor": 5
}
